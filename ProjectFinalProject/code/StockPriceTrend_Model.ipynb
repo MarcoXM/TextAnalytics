{
 "cells": [
  {
   "cell_type": "code",
   "execution_count": 1,
   "metadata": {
    "pycharm": {}
   },
   "outputs": [
    {
     "name": "stdout",
     "output_type": "stream",
     "text": [
      "================================================================================\n",
      "Loading Success ！！\n",
      "================================================================================\n"
     ]
    },
    {
     "data": {
      "text/plain": [
       "999994"
      ]
     },
     "execution_count": 1,
     "metadata": {},
     "output_type": "execute_result"
    }
   ],
   "source": [
    "#!/usr/bin/env python\n",
    "# coding: utf-8\n",
    "from __future__ import print_function\n",
    "import pandas as pd\n",
    "from nltk.tokenize import regexp_tokenize\n",
    "from gensim.models import KeyedVectors\n",
    "from gensim.models import word2vec\n",
    "from gensim.scripts import glove2word2vec\n",
    "import torch\n",
    "import torch.nn as nn\n",
    "from torch.autograd import Variable\n",
    "import torch.optim as optim\n",
    "import torch.nn.functional as F\n",
    "import nltk\n",
    "import random\n",
    "import numpy as np\n",
    "from collections import Counter, OrderedDict\n",
    "import nltk\n",
    "flatten = lambda l: [item for sublist in l for item in sublist]\n",
    "random.seed(224)\n",
    "\n",
    "##########################################\n",
    "#Importing wiki vector####################\n",
    "##########################################\n",
    "## Mac\n",
    "# = KeyedVectors.load_word2vec_format('/Users/marcowang/Downloads/text_project/data/word2vec_pretrain_data/wiki-news-300d-1M.vec')\n",
    "\n",
    "# Ubantu\n",
    "wiki_en = KeyedVectors.load_word2vec_format('/home/marco/Downloads/wiki-news-300d-1M.vec')\n",
    "\n",
    "print('=' * 80)\n",
    "print('Loading Success ！！')\n",
    "print('=' * 80)\n",
    "\n",
    "vocab_wiki = list(wiki_en.vocab.keys())\n",
    "len(vocab_wiki) ### pretrain vocab \n",
    "\n"
   ]
  },
  {
   "cell_type": "code",
   "execution_count": 2,
   "metadata": {},
   "outputs": [
    {
     "name": "stdout",
     "output_type": "stream",
     "text": [
      "Loaded vocab size 3000000\n"
     ]
    }
   ],
   "source": [
    "def load_word2vec():\n",
    "    \"\"\" Load Word2Vec Vectors\n",
    "        Return:\n",
    "            wv_from_bin: All 3 million embeddings, each lengh 300\n",
    "    \"\"\"\n",
    "    import gensim.downloader as api\n",
    "    wv_from_bin = api.load(\"word2vec-google-news-300\")\n",
    "    vocab = list(wv_from_bin.vocab.keys())\n",
    "    print(\"Loaded vocab size %i\" % len(vocab))\n",
    "    return wv_from_bin\n",
    "google = load_word2vec()"
   ]
  },
  {
   "cell_type": "markdown",
   "metadata": {
    "pycharm": {}
   },
   "source": [
    "## For GPU"
   ]
  },
  {
   "cell_type": "code",
   "execution_count": 3,
   "metadata": {
    "pycharm": {}
   },
   "outputs": [],
   "source": [
    "USE_CUDA = torch.cuda.is_available()\n",
    "\n",
    "FloatTensor = torch.cuda.FloatTensor if USE_CUDA else torch.FloatTensor\n",
    "LongTensor = torch.cuda.LongTensor if USE_CUDA else torch.LongTensor\n",
    "ByteTensor = torch.cuda.ByteTensor if USE_CUDA else torch.ByteTensor"
   ]
  },
  {
   "cell_type": "code",
   "execution_count": 4,
   "metadata": {
    "pycharm": {}
   },
   "outputs": [],
   "source": [
    "    def getBatch(batch_size, train_data):\n",
    "        random.shuffle(train_data)\n",
    "        sindex = 0\n",
    "        eindex = batch_size\n",
    "        while eindex < len(train_data):\n",
    "            batch = train_data[sindex: eindex]\n",
    "            temp = eindex\n",
    "            eindex = eindex + batch_size\n",
    "            sindex = temp\n",
    "            yield batch\n",
    "\n",
    "        if eindex >= len(train_data):\n",
    "            batch = train_data[sindex:]\n",
    "            yield batch"
   ]
  },
  {
   "cell_type": "code",
   "execution_count": 5,
   "metadata": {},
   "outputs": [],
   "source": [
    "random.seed(224)"
   ]
  },
  {
   "cell_type": "code",
   "execution_count": 6,
   "metadata": {
    "pycharm": {}
   },
   "outputs": [],
   "source": [
    "def pad_to_batch(batch,max_x = 1024):\n",
    "    x,y = zip(*batch)\n",
    "    \n",
    "    x_p = []\n",
    "    for i in range(len(batch)):\n",
    "        if x[i].size(1) < max_x:\n",
    "            x_p.append(torch.cat([x[i], Variable(LongTensor([word2index['<PAD>']] * (max_x - x[i].size(1)))).view(1, -1)], 1))\n",
    "        else:\n",
    "            x_p.append(x[i])\n",
    "    return torch.cat(x_p), torch.cat(y).view(-1)"
   ]
  },
  {
   "cell_type": "code",
   "execution_count": null,
   "metadata": {
    "pycharm": {}
   },
   "outputs": [],
   "source": []
  },
  {
   "cell_type": "code",
   "execution_count": 7,
   "metadata": {
    "pycharm": {}
   },
   "outputs": [],
   "source": [
    "def prepare_sequence(seq, to_index):\n",
    "    idxs = list(map(lambda w: to_index[w] if to_index.get(w) is not None else to_index[\"<UNK>\"], seq))\n",
    "    return Variable(LongTensor(idxs))"
   ]
  },
  {
   "cell_type": "code",
   "execution_count": 19,
   "metadata": {},
   "outputs": [
    {
     "data": {
      "text/plain": [
       "9974"
      ]
     },
     "execution_count": 19,
     "metadata": {},
     "output_type": "execute_result"
    }
   ],
   "source": [
    "#Mac\n",
    "#news = pd.read_csv('/Users/marcowang/Dropbox/Textnews/TextProject/sample_data/news20190406_285.csv',index_col=None)\n",
    "\n",
    "#Ubantu\n",
    "news = pd.read_csv('/home/marco/Dropbox/Textnews/TextProject/sample_data/news20190406_285.csv',index_col=None)\n",
    "\n",
    "newsText = list(news['NewsContent'])\n",
    "flatten = lambda l:[item for sublist in  l for item in sublist]\n",
    "newsToken = [regexp_tokenize(sent,pattern = '\\w+|\\$[\\d\\.]+|\\S+') for sent in newsText] #####?\n",
    "new_token = [x for x in newsToken if len(x)<=1000]\n",
    "flatToken = flatten(new_token)\n",
    "allWords = [w.lower() for w in flatToken]\n",
    "vocabulary = list(set(allWords))  # news vocabulary \n",
    "len(vocabulary) ##   Oh my G~~~~， It is difficult for me to read about technical news~， so many words ~"
   ]
  },
  {
   "cell_type": "code",
   "execution_count": 20,
   "metadata": {
    "pycharm": {}
   },
   "outputs": [],
   "source": [
    "#Mac\n",
    "#data = pd.read_csv('/Users/marcowang/Dropbox/Textnews/TextProject/sample_data/tagged_data/finalInput.csv',index_col=0)\n",
    "\n",
    "#Ubantu\n",
    "data = pd.read_csv('/home/marco/Dropbox/Textnews/TextProject/sample_data/tagged_data/finalInput.csv',index_col=0)\n",
    "\n",
    "\n",
    "y_com = data.iloc[:,4:9].values # company info\n",
    "y_sent = data.iloc[:,9:].values # \n",
    "\n",
    "# negative impact label as '2'\n",
    "for i in range(y_sent.shape[0]):\n",
    "    for j in range(y_sent.shape[1]):\n",
    "        if y_sent[i][j] == -1:\n",
    "            y_sent[i][j] = 2\n",
    "        "
   ]
  },
  {
   "cell_type": "code",
   "execution_count": 21,
   "metadata": {
    "pycharm": {}
   },
   "outputs": [],
   "source": [
    "word2index={'<PAD>': 0, '<UNK>': 1} # pad means padding !\n",
    "\n",
    "for vo in vocabulary:\n",
    "    if word2index.get(vo) is None:\n",
    "        word2index[vo] = len(word2index)\n",
    "        \n",
    "index2word = {v:k for k, v in word2index.items()}\n",
    "\n"
   ]
  },
  {
   "cell_type": "code",
   "execution_count": 22,
   "metadata": {
    "pycharm": {}
   },
   "outputs": [
    {
     "name": "stdout",
     "output_type": "stream",
     "text": [
      "985\n"
     ]
    }
   ],
   "source": [
    "X_p, y_p = [],[]\n",
    "\n",
    "for x,y in zip(newsToken,y_sent):\n",
    "    if len(x) <=1000:\n",
    "        X_p.append(prepare_sequence(x, word2index).view(1, -1))\n",
    "        y_p.append(Variable(LongTensor(y)).view(1, -1))\n",
    "        \n",
    "    \n",
    "data_p = list(zip(X_p,y_p))\n",
    "random.shuffle(data_p)\n",
    "\n",
    "train_data = data_p[: int(len(data_p) * 0.8)]\n",
    "test_data = data_p[int(len(data_p) * 0.8):]\n",
    "maxLength = max([x[0].size(1) for x in data_p])\n",
    "print(maxLength)"
   ]
  },
  {
   "cell_type": "markdown",
   "metadata": {},
   "source": [
    "## Getting the dataset for 5 companies"
   ]
  },
  {
   "cell_type": "code",
   "execution_count": 23,
   "metadata": {
    "pycharm": {}
   },
   "outputs": [],
   "source": [
    "y_ap = [x[1][0][0].view(1, -1) for x in train_data ]\n",
    "y_bm = [x[1][0][1].view(1, -1) for x in train_data ]\n",
    "y_go = [x[1][0][2].view(1, -1) for x in train_data ]\n",
    "y_am = [x[1][0][3].view(1, -1) for x in train_data ]\n",
    "y_ms = [x[1][0][4].view(1, -1) for x in train_data ]\n",
    "train_x = [x[0] for x in train_data ]\n",
    "train_ap = list(zip(train_x,y_ap))\n",
    "train_bm = list(zip(train_x,y_bm))\n",
    "train_go = list(zip(train_x,y_go))\n",
    "train_am = list(zip(train_x,y_am))\n",
    "train_ms = list(zip(train_x,y_ms))"
   ]
  },
  {
   "cell_type": "markdown",
   "metadata": {},
   "source": [
    "## pretrain vecter for all "
   ]
  },
  {
   "cell_type": "code",
   "execution_count": 24,
   "metadata": {},
   "outputs": [],
   "source": [
    "pretrained = []\n",
    "\n",
    "for key in word2index.keys():\n",
    "    try:\n",
    "        pretrained.append(wiki_en[word2index[key]])\n",
    "    except:\n",
    "        pretrained.append(np.random.randn(300))\n",
    "        \n",
    "pretrained_vectors = np.vstack(pretrained)"
   ]
  },
  {
   "cell_type": "code",
   "execution_count": 25,
   "metadata": {},
   "outputs": [
    {
     "data": {
      "text/plain": [
       "tensor([[1, 2, 2, 0, 2]])"
      ]
     },
     "execution_count": 25,
     "metadata": {},
     "output_type": "execute_result"
    }
   ],
   "source": [
    "train_data[0][1]"
   ]
  },
  {
   "cell_type": "code",
   "execution_count": 26,
   "metadata": {},
   "outputs": [],
   "source": []
  },
  {
   "cell_type": "code",
   "execution_count": 27,
   "metadata": {},
   "outputs": [
    {
     "data": {
      "image/png": "[encoded data removed]",
      "text/plain": [
       "<Figure size 432x288 with 1 Axes>"
      ]
     },
     "metadata": {
      "needs_background": "light"
     },
     "output_type": "display_data"
    }
   ],
   "source": [
    "import matplotlib.pyplot as plt\n",
    "plt.hist(xxx)\n",
    "plt.show()"
   ]
  },
  {
   "cell_type": "markdown",
   "metadata": {
    "pycharm": {}
   },
   "source": [
    "## training"
   ]
  },
  {
   "cell_type": "markdown",
   "metadata": {
    "pycharm": {}
   },
   "source": [
    "### Model Artciteure"
   ]
  },
  {
   "cell_type": "code",
   "execution_count": 1,
   "metadata": {
    "pycharm": {}
   },
   "outputs": [
    {
     "ename": "NameError",
     "evalue": "name 'nn' is not defined",
     "output_type": "error",
     "traceback": [
      "\u001b[0;31m---------------------------------------------------------------------------\u001b[0m",
      "\u001b[0;31mNameError\u001b[0m                                 Traceback (most recent call last)",
      "\u001b[0;32m<ipython-input-1-9f31a176d876>\u001b[0m in \u001b[0;36m<module>\u001b[0;34m\u001b[0m\n\u001b[0;32m----> 1\u001b[0;31m \u001b[0;32mclass\u001b[0m \u001b[0mSent\u001b[0m\u001b[0;34m(\u001b[0m\u001b[0mnn\u001b[0m\u001b[0;34m.\u001b[0m\u001b[0mModule\u001b[0m\u001b[0;34m)\u001b[0m\u001b[0;34m:\u001b[0m\u001b[0;34m\u001b[0m\u001b[0;34m\u001b[0m\u001b[0m\n\u001b[0m\u001b[1;32m      2\u001b[0m \u001b[0;34m\u001b[0m\u001b[0m\n\u001b[1;32m      3\u001b[0m     \u001b[0;32mdef\u001b[0m \u001b[0m__init__\u001b[0m\u001b[0;34m(\u001b[0m\u001b[0mself\u001b[0m\u001b[0;34m,\u001b[0m \u001b[0mvocab_size\u001b[0m\u001b[0;34m,\u001b[0m \u001b[0membedding_dim\u001b[0m\u001b[0;34m)\u001b[0m\u001b[0;34m:\u001b[0m\u001b[0;34m\u001b[0m\u001b[0;34m\u001b[0m\u001b[0m\n\u001b[1;32m      4\u001b[0m         \u001b[0msuper\u001b[0m\u001b[0;34m(\u001b[0m\u001b[0mSent\u001b[0m\u001b[0;34m,\u001b[0m\u001b[0mself\u001b[0m\u001b[0;34m)\u001b[0m\u001b[0;34m.\u001b[0m\u001b[0m__init__\u001b[0m\u001b[0;34m(\u001b[0m\u001b[0;34m)\u001b[0m\u001b[0;34m\u001b[0m\u001b[0;34m\u001b[0m\u001b[0m\n\u001b[1;32m      5\u001b[0m         \u001b[0mself\u001b[0m\u001b[0;34m.\u001b[0m\u001b[0membedding_w\u001b[0m \u001b[0;34m=\u001b[0m \u001b[0mnn\u001b[0m\u001b[0;34m.\u001b[0m\u001b[0mEmbedding\u001b[0m\u001b[0;34m(\u001b[0m\u001b[0mvocab_size\u001b[0m\u001b[0;34m,\u001b[0m \u001b[0membedding_dim\u001b[0m\u001b[0;34m)\u001b[0m\u001b[0;34m\u001b[0m\u001b[0;34m\u001b[0m\u001b[0m\n",
      "\u001b[0;31mNameError\u001b[0m: name 'nn' is not defined"
     ]
    }
   ],
   "source": [
    "class Sent(nn.Module):\n",
    "    \n",
    "    def __init__(self, vocab_size, embedding_dim):\n",
    "        super(Sent,self).__init__()\n",
    "        self.embedding_w = nn.Embedding(vocab_size, embedding_dim)\n",
    "        self.rnn = nn.LSTM(     # LSTM 效果要比 nn.RNN() 好多了\n",
    "        input_size = 300,      # vecter dimension\n",
    "        hidden_size=64,     # rnn hidden unit\n",
    "        num_layers=1,       # \n",
    "        batch_first=True,   # input & output 会是以 batch size 为第一维度的特征集 e.g. (batch, time_step, input_size)\n",
    "        )\n",
    "        self.out = nn.Linear(64, 3) # 三分类  所以就用 3 \n",
    "        \n",
    "    \n",
    "    \n",
    "    def init_weights(self, pretrained_word_vectors, is_static=True):\n",
    "        self.embedding_w.weight = nn.Parameter(torch.from_numpy(pretrained_word_vectors).float())\n",
    "        if is_static:\n",
    "            self.embedding_w.weight.requires_grad = False\n",
    "\n",
    "\n",
    "    def forward(self, inputs, is_training=False):\n",
    "        inputs = self.embedding_w(inputs) # (B,1,T,D)\n",
    "        r_out, (h_n, h_c) = self.rnn(inputs, None)\n",
    "        out = self.out(r_out[:, -1, :])\n",
    "        return out\n",
    "           "
   ]
  },
  {
   "cell_type": "markdown",
   "metadata": {},
   "source": [
    "## Apple Model training "
   ]
  },
  {
   "cell_type": "code",
   "execution_count": 29,
   "metadata": {
    "pycharm": {}
   },
   "outputs": [
    {
     "name": "stdout",
     "output_type": "stream",
     "text": [
      "Epoch:  0/100 | train loss: 1.1145 | test accuracy: 0.44\n",
      "Epoch:  1/100 | train loss: 1.0930 | test accuracy: 0.42\n",
      "Epoch:  2/100 | train loss: 1.1168 | test accuracy: 0.42\n",
      "Epoch:  3/100 | train loss: 1.2024 | test accuracy: 0.42\n",
      "Epoch:  4/100 | train loss: 1.0287 | test accuracy: 0.42\n",
      "Epoch:  5/100 | train loss: 0.9598 | test accuracy: 0.42\n",
      "Epoch:  6/100 | train loss: 1.0213 | test accuracy: 0.42\n",
      "Epoch:  7/100 | train loss: 1.1142 | test accuracy: 0.42\n",
      "Epoch:  8/100 | train loss: 0.9803 | test accuracy: 0.42\n",
      "Epoch:  9/100 | train loss: 0.9665 | test accuracy: 0.42\n",
      "Epoch:  10/100 | train loss: 0.9749 | test accuracy: 0.42\n",
      "Epoch:  11/100 | train loss: 1.0023 | test accuracy: 0.42\n",
      "Epoch:  12/100 | train loss: 0.9143 | test accuracy: 0.42\n",
      "Epoch:  13/100 | train loss: 0.9779 | test accuracy: 0.42\n",
      "Epoch:  14/100 | train loss: 1.0143 | test accuracy: 0.42\n",
      "Epoch:  15/100 | train loss: 1.0414 | test accuracy: 0.42\n",
      "Epoch:  16/100 | train loss: 0.9846 | test accuracy: 0.42\n",
      "Epoch:  17/100 | train loss: 0.8585 | test accuracy: 0.42\n",
      "Epoch:  18/100 | train loss: 0.9715 | test accuracy: 0.42\n",
      "Epoch:  19/100 | train loss: 1.0006 | test accuracy: 0.42\n",
      "Epoch:  20/100 | train loss: 0.9844 | test accuracy: 0.42\n",
      "Epoch:  21/100 | train loss: 0.9308 | test accuracy: 0.42\n",
      "Epoch:  22/100 | train loss: 1.1193 | test accuracy: 0.42\n",
      "Epoch:  23/100 | train loss: 0.9292 | test accuracy: 0.42\n",
      "Epoch:  24/100 | train loss: 0.9484 | test accuracy: 0.42\n",
      "Epoch:  25/100 | train loss: 0.9282 | test accuracy: 0.42\n",
      "Epoch:  26/100 | train loss: 1.0637 | test accuracy: 0.42\n",
      "Epoch:  27/100 | train loss: 0.9990 | test accuracy: 0.42\n",
      "Epoch:  28/100 | train loss: 1.0002 | test accuracy: 0.42\n",
      "Epoch:  29/100 | train loss: 1.0734 | test accuracy: 0.42\n",
      "Epoch:  30/100 | train loss: 1.1276 | test accuracy: 0.42\n",
      "Epoch:  31/100 | train loss: 0.9869 | test accuracy: 0.42\n",
      "Epoch:  32/100 | train loss: 0.9428 | test accuracy: 0.42\n",
      "Epoch:  33/100 | train loss: 0.9842 | test accuracy: 0.42\n",
      "Epoch:  34/100 | train loss: 1.1263 | test accuracy: 0.42\n",
      "Epoch:  35/100 | train loss: 1.0688 | test accuracy: 0.42\n",
      "Epoch:  36/100 | train loss: 0.8581 | test accuracy: 0.42\n",
      "Epoch:  37/100 | train loss: 1.1576 | test accuracy: 0.42\n",
      "Epoch:  38/100 | train loss: 0.8586 | test accuracy: 0.42\n",
      "Epoch:  39/100 | train loss: 0.8823 | test accuracy: 0.42\n",
      "Epoch:  40/100 | train loss: 1.1104 | test accuracy: 0.42\n",
      "Epoch:  41/100 | train loss: 0.9677 | test accuracy: 0.42\n",
      "Epoch:  42/100 | train loss: 1.0383 | test accuracy: 0.42\n",
      "Epoch:  43/100 | train loss: 1.0284 | test accuracy: 0.42\n",
      "Epoch:  44/100 | train loss: 1.0272 | test accuracy: 0.42\n",
      "Epoch:  45/100 | train loss: 0.9323 | test accuracy: 0.42\n",
      "Epoch:  46/100 | train loss: 0.9728 | test accuracy: 0.42\n",
      "Epoch:  47/100 | train loss: 0.9139 | test accuracy: 0.42\n",
      "Epoch:  48/100 | train loss: 1.0521 | test accuracy: 0.42\n",
      "Epoch:  49/100 | train loss: 0.9521 | test accuracy: 0.42\n",
      "Epoch:  50/100 | train loss: 0.9996 | test accuracy: 0.42\n",
      "Epoch:  51/100 | train loss: 1.2883 | test accuracy: 0.42\n",
      "Epoch:  52/100 | train loss: 0.9289 | test accuracy: 0.42\n",
      "Epoch:  53/100 | train loss: 1.0668 | test accuracy: 0.42\n",
      "Epoch:  54/100 | train loss: 0.9247 | test accuracy: 0.42\n",
      "Epoch:  55/100 | train loss: 1.0877 | test accuracy: 0.42\n",
      "Epoch:  56/100 | train loss: 1.0829 | test accuracy: 0.42\n",
      "Epoch:  57/100 | train loss: 0.9037 | test accuracy: 0.42\n",
      "Epoch:  58/100 | train loss: 1.1983 | test accuracy: 0.42\n",
      "Epoch:  59/100 | train loss: 0.9704 | test accuracy: 0.42\n",
      "Epoch:  60/100 | train loss: 1.0290 | test accuracy: 0.42\n",
      "Epoch:  61/100 | train loss: 0.8179 | test accuracy: 0.42\n",
      "Epoch:  62/100 | train loss: 0.9987 | test accuracy: 0.42\n",
      "Epoch:  63/100 | train loss: 0.9722 | test accuracy: 0.42\n",
      "Epoch:  64/100 | train loss: 0.8497 | test accuracy: 0.42\n",
      "Epoch:  65/100 | train loss: 0.9975 | test accuracy: 0.42\n",
      "Epoch:  66/100 | train loss: 1.0265 | test accuracy: 0.42\n",
      "Epoch:  67/100 | train loss: 0.9444 | test accuracy: 0.42\n",
      "Epoch:  68/100 | train loss: 1.0384 | test accuracy: 0.42\n",
      "Epoch:  69/100 | train loss: 0.9845 | test accuracy: 0.42\n",
      "Epoch:  70/100 | train loss: 1.1370 | test accuracy: 0.42\n",
      "Epoch:  71/100 | train loss: 0.9454 | test accuracy: 0.42\n",
      "Epoch:  72/100 | train loss: 1.0572 | test accuracy: 0.42\n",
      "Epoch:  73/100 | train loss: 1.0859 | test accuracy: 0.42\n",
      "Epoch:  74/100 | train loss: 0.9994 | test accuracy: 0.42\n",
      "Epoch:  75/100 | train loss: 1.0400 | test accuracy: 0.42\n",
      "Epoch:  76/100 | train loss: 0.9189 | test accuracy: 0.42\n",
      "Epoch:  77/100 | train loss: 1.0695 | test accuracy: 0.42\n",
      "Epoch:  78/100 | train loss: 1.0980 | test accuracy: 0.42\n",
      "Epoch:  79/100 | train loss: 1.0287 | test accuracy: 0.42\n",
      "Epoch:  80/100 | train loss: 1.1528 | test accuracy: 0.42\n",
      "Epoch:  81/100 | train loss: 1.0137 | test accuracy: 0.42\n",
      "Epoch:  82/100 | train loss: 1.0416 | test accuracy: 0.42\n",
      "Epoch:  83/100 | train loss: 0.9291 | test accuracy: 0.42\n",
      "Epoch:  84/100 | train loss: 0.9987 | test accuracy: 0.42\n",
      "Epoch:  85/100 | train loss: 1.0544 | test accuracy: 0.42\n",
      "Epoch:  86/100 | train loss: 0.9187 | test accuracy: 0.42\n",
      "Epoch:  87/100 | train loss: 1.0022 | test accuracy: 0.42\n",
      "Epoch:  88/100 | train loss: 1.2240 | test accuracy: 0.42\n",
      "Epoch:  89/100 | train loss: 0.9311 | test accuracy: 0.42\n",
      "Epoch:  90/100 | train loss: 0.9672 | test accuracy: 0.42\n",
      "Epoch:  91/100 | train loss: 0.9581 | test accuracy: 0.42\n",
      "Epoch:  92/100 | train loss: 1.1133 | test accuracy: 0.42\n",
      "Epoch:  93/100 | train loss: 1.1392 | test accuracy: 0.42\n",
      "Epoch:  94/100 | train loss: 1.0407 | test accuracy: 0.42\n",
      "Epoch:  95/100 | train loss: 0.9858 | test accuracy: 0.42\n",
      "Epoch:  96/100 | train loss: 1.0406 | test accuracy: 0.42\n",
      "Epoch:  97/100 | train loss: 1.0126 | test accuracy: 0.42\n",
      "Epoch:  98/100 | train loss: 1.0557 | test accuracy: 0.42\n",
      "Epoch:  99/100 | train loss: 1.0969 | test accuracy: 0.42\n"
     ]
    }
   ],
   "source": [
    "EPOCH = 100\n",
    "BATCH_SIZE = 20\n",
    "LR = 0.001\n",
    "TIME_STEP = 32          # rnn time step / image height\n",
    "INPUT_SIZE = 32\n",
    "\n",
    "apmodel = Sent(len(word2index), 300)\n",
    "apmodel.init_weights(pretrained_vectors) # initialize embedding matrix using pretrained vectors\n",
    "\n",
    "loss_function = nn.CrossEntropyLoss()\n",
    "optimizer = optim.Adam(apmodel.parameters(), lr=LR)\n",
    "\n",
    "for epoch in range(EPOCH):\n",
    "    losses = []\n",
    "    for i,batch in enumerate(getBatch(BATCH_SIZE, train_ap)):\n",
    "\n",
    "        inputs,targets = pad_to_batch(batch)\n",
    "        #print(targets.size())          \n",
    "        apmodel.zero_grad()\n",
    "        preds = apmodel(inputs,True)\n",
    "        #print(preds.size())\n",
    "        loss = loss_function(preds, targets)\n",
    "        losses.append(loss.data.mean())\n",
    "        loss.backward()\n",
    "        \n",
    "        \n",
    "        optimizer.step()\n",
    "        acc = 0\n",
    "        if i % 100 == 0:\n",
    "            for test in test_data:\n",
    "                oup = apmodel(test[0])\n",
    "                a = (torch.max(oup,1)[1].item())\n",
    "                b = (test[1][0][0].item())\n",
    "                if a == b:\n",
    "                    acc +=1\n",
    "            accuracy = acc/len(test_data)\n",
    "            print('Epoch: ', str(epoch)+'/'+str(EPOCH), '| train loss: %.4f' % loss.data.numpy(), '| test accuracy: %.2f' % accuracy)\n"
   ]
  },
  {
   "cell_type": "markdown",
   "metadata": {},
   "source": [
    "### Ibm"
   ]
  },
  {
   "cell_type": "code",
   "execution_count": 36,
   "metadata": {},
   "outputs": [
    {
     "name": "stdout",
     "output_type": "stream",
     "text": [
      "Epoch:  0/100 | train loss: 1.0515 | test accuracy: 0.36\n",
      "Epoch:  1/100 | train loss: 1.0272 | test accuracy: 0.36\n",
      "Epoch:  2/100 | train loss: 1.0457 | test accuracy: 0.36\n",
      "Epoch:  3/100 | train loss: 1.0337 | test accuracy: 0.36\n",
      "Epoch:  4/100 | train loss: 0.8722 | test accuracy: 0.34\n",
      "Epoch:  5/100 | train loss: 0.9655 | test accuracy: 0.36\n",
      "Epoch:  6/100 | train loss: 0.9119 | test accuracy: 0.36\n",
      "Epoch:  7/100 | train loss: 0.9460 | test accuracy: 0.34\n",
      "Epoch:  8/100 | train loss: 0.8320 | test accuracy: 0.34\n",
      "Epoch:  9/100 | train loss: 1.1089 | test accuracy: 0.34\n",
      "Epoch:  10/100 | train loss: 0.8906 | test accuracy: 0.34\n",
      "Epoch:  11/100 | train loss: 0.9653 | test accuracy: 0.34\n",
      "Epoch:  12/100 | train loss: 0.9131 | test accuracy: 0.34\n",
      "Epoch:  13/100 | train loss: 0.9179 | test accuracy: 0.34\n",
      "Epoch:  14/100 | train loss: 0.9329 | test accuracy: 0.34\n",
      "Epoch:  15/100 | train loss: 0.9024 | test accuracy: 0.34\n",
      "Epoch:  16/100 | train loss: 0.9596 | test accuracy: 0.34\n",
      "Epoch:  17/100 | train loss: 0.9755 | test accuracy: 0.34\n",
      "Epoch:  18/100 | train loss: 0.9407 | test accuracy: 0.34\n",
      "Epoch:  19/100 | train loss: 0.9968 | test accuracy: 0.34\n",
      "Epoch:  20/100 | train loss: 0.9311 | test accuracy: 0.34\n",
      "Epoch:  21/100 | train loss: 0.8663 | test accuracy: 0.34\n",
      "Epoch:  22/100 | train loss: 0.9431 | test accuracy: 0.34\n",
      "Epoch:  23/100 | train loss: 0.8725 | test accuracy: 0.34\n",
      "Epoch:  24/100 | train loss: 0.8983 | test accuracy: 0.34\n",
      "Epoch:  25/100 | train loss: 0.8741 | test accuracy: 0.34\n",
      "Epoch:  26/100 | train loss: 0.9328 | test accuracy: 0.34\n",
      "Epoch:  27/100 | train loss: 0.9597 | test accuracy: 0.34\n",
      "Epoch:  28/100 | train loss: 0.9511 | test accuracy: 0.34\n",
      "Epoch:  29/100 | train loss: 0.9677 | test accuracy: 0.34\n",
      "Epoch:  30/100 | train loss: 0.7378 | test accuracy: 0.34\n",
      "Epoch:  31/100 | train loss: 0.7938 | test accuracy: 0.34\n",
      "Epoch:  32/100 | train loss: 0.9258 | test accuracy: 0.34\n",
      "Epoch:  33/100 | train loss: 0.9596 | test accuracy: 0.34\n",
      "Epoch:  34/100 | train loss: 0.9955 | test accuracy: 0.34\n",
      "Epoch:  35/100 | train loss: 0.9796 | test accuracy: 0.34\n",
      "Epoch:  36/100 | train loss: 0.9760 | test accuracy: 0.34\n",
      "Epoch:  37/100 | train loss: 0.9139 | test accuracy: 0.34\n",
      "Epoch:  38/100 | train loss: 0.9624 | test accuracy: 0.34\n",
      "Epoch:  39/100 | train loss: 0.8787 | test accuracy: 0.34\n",
      "Epoch:  40/100 | train loss: 0.9258 | test accuracy: 0.34\n",
      "Epoch:  41/100 | train loss: 0.8522 | test accuracy: 0.34\n",
      "Epoch:  42/100 | train loss: 1.0410 | test accuracy: 0.34\n",
      "Epoch:  43/100 | train loss: 0.9138 | test accuracy: 0.34\n",
      "Epoch:  44/100 | train loss: 0.9931 | test accuracy: 0.34\n",
      "Epoch:  45/100 | train loss: 0.9155 | test accuracy: 0.34\n",
      "Epoch:  46/100 | train loss: 0.9527 | test accuracy: 0.34\n",
      "Epoch:  47/100 | train loss: 0.8178 | test accuracy: 0.34\n",
      "Epoch:  48/100 | train loss: 0.8508 | test accuracy: 0.34\n",
      "Epoch:  49/100 | train loss: 0.9153 | test accuracy: 0.34\n",
      "Epoch:  50/100 | train loss: 1.0562 | test accuracy: 0.34\n",
      "Epoch:  51/100 | train loss: 1.0874 | test accuracy: 0.34\n",
      "Epoch:  52/100 | train loss: 0.9748 | test accuracy: 0.34\n",
      "Epoch:  53/100 | train loss: 0.9970 | test accuracy: 0.34\n",
      "Epoch:  54/100 | train loss: 0.9337 | test accuracy: 0.34\n",
      "Epoch:  55/100 | train loss: 0.8960 | test accuracy: 0.36\n",
      "Epoch:  56/100 | train loss: 0.8961 | test accuracy: 0.34\n",
      "Epoch:  57/100 | train loss: 0.8174 | test accuracy: 0.34\n",
      "Epoch:  58/100 | train loss: 0.9128 | test accuracy: 0.34\n",
      "Epoch:  59/100 | train loss: 0.9596 | test accuracy: 0.34\n",
      "Epoch:  60/100 | train loss: 0.9122 | test accuracy: 0.34\n",
      "Epoch:  61/100 | train loss: 0.9116 | test accuracy: 0.34\n",
      "Epoch:  62/100 | train loss: 0.8227 | test accuracy: 0.34\n",
      "Epoch:  63/100 | train loss: 0.9428 | test accuracy: 0.34\n",
      "Epoch:  64/100 | train loss: 0.9327 | test accuracy: 0.34\n",
      "Epoch:  65/100 | train loss: 1.1057 | test accuracy: 0.34\n",
      "Epoch:  66/100 | train loss: 0.9892 | test accuracy: 0.34\n",
      "Epoch:  67/100 | train loss: 0.9666 | test accuracy: 0.34\n",
      "Epoch:  68/100 | train loss: 1.0215 | test accuracy: 0.34\n",
      "Epoch:  69/100 | train loss: 1.0476 | test accuracy: 0.34\n",
      "Epoch:  70/100 | train loss: 0.9162 | test accuracy: 0.34\n",
      "Epoch:  71/100 | train loss: 1.0129 | test accuracy: 0.34\n",
      "Epoch:  72/100 | train loss: 0.9708 | test accuracy: 0.34\n",
      "Epoch:  73/100 | train loss: 0.9532 | test accuracy: 0.34\n",
      "Epoch:  74/100 | train loss: 0.8735 | test accuracy: 0.34\n",
      "Epoch:  75/100 | train loss: 0.8970 | test accuracy: 0.34\n",
      "Epoch:  76/100 | train loss: 0.8705 | test accuracy: 0.34\n",
      "Epoch:  77/100 | train loss: 1.0042 | test accuracy: 0.34\n",
      "Epoch:  78/100 | train loss: 0.9236 | test accuracy: 0.34\n",
      "Epoch:  79/100 | train loss: 1.0144 | test accuracy: 0.34\n",
      "Epoch:  80/100 | train loss: 0.9533 | test accuracy: 0.34\n",
      "Epoch:  81/100 | train loss: 0.9697 | test accuracy: 0.34\n",
      "Epoch:  82/100 | train loss: 1.0007 | test accuracy: 0.34\n",
      "Epoch:  83/100 | train loss: 0.8956 | test accuracy: 0.34\n",
      "Epoch:  84/100 | train loss: 0.9942 | test accuracy: 0.34\n",
      "Epoch:  85/100 | train loss: 0.9264 | test accuracy: 0.34\n",
      "Epoch:  86/100 | train loss: 0.8537 | test accuracy: 0.36\n",
      "Epoch:  87/100 | train loss: 0.9426 | test accuracy: 0.36\n",
      "Epoch:  88/100 | train loss: 0.8363 | test accuracy: 0.34\n",
      "Epoch:  89/100 | train loss: 0.9633 | test accuracy: 0.34\n",
      "Epoch:  90/100 | train loss: 0.9965 | test accuracy: 0.34\n",
      "Epoch:  91/100 | train loss: 0.8425 | test accuracy: 0.34\n",
      "Epoch:  92/100 | train loss: 0.8113 | test accuracy: 0.34\n",
      "Epoch:  93/100 | train loss: 0.9324 | test accuracy: 0.34\n",
      "Epoch:  94/100 | train loss: 0.9256 | test accuracy: 0.34\n",
      "Epoch:  95/100 | train loss: 0.8951 | test accuracy: 0.34\n",
      "Epoch:  96/100 | train loss: 0.9658 | test accuracy: 0.34\n",
      "Epoch:  97/100 | train loss: 0.9541 | test accuracy: 0.34\n",
      "Epoch:  98/100 | train loss: 0.9266 | test accuracy: 0.34\n",
      "Epoch:  99/100 | train loss: 0.9868 | test accuracy: 0.34\n"
     ]
    }
   ],
   "source": [
    "EPOCH = 100\n",
    "BATCH_SIZE = 50\n",
    "LR = 0.001\n",
    "TIME_STEP = 1024         # \n",
    "INPUT_SIZE = 1\n",
    "\n",
    "bmmodel = Sent(len(word2index), 300)\n",
    "bmmodel.init_weights(pretrained_vectors) # initialize embedding matrix using pretrained vectors\n",
    "\n",
    "loss_function = nn.CrossEntropyLoss()\n",
    "optimizer = optim.Adam(bmmodel.parameters(), lr=LR)\n",
    "\n",
    "for epoch in range(EPOCH):\n",
    "    losses = []\n",
    "    for i,batch in enumerate(getBatch(BATCH_SIZE, train_bm)):\n",
    "\n",
    "        inputs,targets = pad_to_batch(batch)\n",
    "        #print(targets.size())          \n",
    "        bmmodel.zero_grad()\n",
    "        preds = bmmodel(inputs,True)\n",
    "        #print(preds.size())\n",
    "        loss = loss_function(preds, targets)\n",
    "        losses.append(loss.data.mean())\n",
    "        loss.backward()\n",
    "        \n",
    "        #for param in model.parameters():\n",
    "        #    param.grad.data.clamp_(-3, 3)\n",
    "        \n",
    "        optimizer.step()\n",
    "        acc = 0\n",
    "        if i % 100 == 0:\n",
    "            for test in test_data:\n",
    "                oup = bmmodel(test[0])\n",
    "                a = (torch.max(oup,1)[1].item())\n",
    "                b = (test[1][0][0].item())\n",
    "                if a == b:\n",
    "                    acc +=1\n",
    "            accuracy = acc/len(test_data)\n",
    "            print('Epoch: ', str(epoch)+'/'+str(EPOCH), '| train loss: %.4f' % loss.data.numpy(), '| test accuracy: %.2f' % accuracy)\n"
   ]
  },
  {
   "cell_type": "markdown",
   "metadata": {},
   "source": [
    "### Google"
   ]
  },
  {
   "cell_type": "code",
   "execution_count": 37,
   "metadata": {},
   "outputs": [
    {
     "name": "stdout",
     "output_type": "stream",
     "text": [
      "Epoch:  0/100 | train loss: 1.0410 | test accuracy: 0.26\n",
      "Epoch:  1/100 | train loss: 1.0251 | test accuracy: 0.26\n",
      "Epoch:  2/100 | train loss: 0.9202 | test accuracy: 0.32\n",
      "Epoch:  3/100 | train loss: 0.9212 | test accuracy: 0.32\n",
      "Epoch:  4/100 | train loss: 1.0455 | test accuracy: 0.28\n",
      "Epoch:  5/100 | train loss: 0.9613 | test accuracy: 0.28\n",
      "Epoch:  6/100 | train loss: 0.9850 | test accuracy: 0.28\n",
      "Epoch:  7/100 | train loss: 0.9446 | test accuracy: 0.28\n",
      "Epoch:  8/100 | train loss: 0.9989 | test accuracy: 0.28\n",
      "Epoch:  9/100 | train loss: 1.0400 | test accuracy: 0.28\n",
      "Epoch:  10/100 | train loss: 0.9494 | test accuracy: 0.34\n",
      "Epoch:  11/100 | train loss: 0.9251 | test accuracy: 0.30\n",
      "Epoch:  12/100 | train loss: 0.8822 | test accuracy: 0.30\n",
      "Epoch:  13/100 | train loss: 0.9983 | test accuracy: 0.30\n",
      "Epoch:  14/100 | train loss: 0.9658 | test accuracy: 0.30\n",
      "Epoch:  15/100 | train loss: 0.9258 | test accuracy: 0.30\n",
      "Epoch:  16/100 | train loss: 1.0670 | test accuracy: 0.30\n",
      "Epoch:  17/100 | train loss: 1.0174 | test accuracy: 0.30\n",
      "Epoch:  18/100 | train loss: 0.9909 | test accuracy: 0.30\n",
      "Epoch:  19/100 | train loss: 1.0719 | test accuracy: 0.30\n",
      "Epoch:  20/100 | train loss: 1.0618 | test accuracy: 0.30\n",
      "Epoch:  21/100 | train loss: 1.0206 | test accuracy: 0.30\n",
      "Epoch:  22/100 | train loss: 1.0539 | test accuracy: 0.30\n",
      "Epoch:  23/100 | train loss: 1.0448 | test accuracy: 0.30\n",
      "Epoch:  24/100 | train loss: 1.0599 | test accuracy: 0.30\n",
      "Epoch:  25/100 | train loss: 1.0126 | test accuracy: 0.30\n",
      "Epoch:  26/100 | train loss: 0.9145 | test accuracy: 0.30\n",
      "Epoch:  27/100 | train loss: 0.9397 | test accuracy: 0.30\n",
      "Epoch:  28/100 | train loss: 0.9851 | test accuracy: 0.30\n",
      "Epoch:  29/100 | train loss: 1.1013 | test accuracy: 0.30\n",
      "Epoch:  30/100 | train loss: 0.8958 | test accuracy: 0.30\n",
      "Epoch:  31/100 | train loss: 0.9924 | test accuracy: 0.30\n",
      "Epoch:  32/100 | train loss: 1.0727 | test accuracy: 0.30\n",
      "Epoch:  33/100 | train loss: 0.9533 | test accuracy: 0.30\n",
      "Epoch:  34/100 | train loss: 0.8910 | test accuracy: 0.30\n",
      "Epoch:  35/100 | train loss: 0.9499 | test accuracy: 0.30\n",
      "Epoch:  36/100 | train loss: 1.0104 | test accuracy: 0.30\n",
      "Epoch:  37/100 | train loss: 0.9373 | test accuracy: 0.30\n",
      "Epoch:  38/100 | train loss: 1.0988 | test accuracy: 0.30\n",
      "Epoch:  39/100 | train loss: 1.0923 | test accuracy: 0.30\n",
      "Epoch:  40/100 | train loss: 0.9849 | test accuracy: 0.30\n",
      "Epoch:  41/100 | train loss: 0.9699 | test accuracy: 0.30\n",
      "Epoch:  42/100 | train loss: 1.0344 | test accuracy: 0.30\n",
      "Epoch:  43/100 | train loss: 0.9005 | test accuracy: 0.30\n",
      "Epoch:  44/100 | train loss: 1.1099 | test accuracy: 0.30\n",
      "Epoch:  45/100 | train loss: 1.0376 | test accuracy: 0.30\n",
      "Epoch:  46/100 | train loss: 1.0117 | test accuracy: 0.30\n",
      "Epoch:  47/100 | train loss: 0.9430 | test accuracy: 0.30\n",
      "Epoch:  48/100 | train loss: 1.0333 | test accuracy: 0.30\n",
      "Epoch:  49/100 | train loss: 1.0582 | test accuracy: 0.30\n",
      "Epoch:  50/100 | train loss: 1.0454 | test accuracy: 0.30\n",
      "Epoch:  51/100 | train loss: 0.9471 | test accuracy: 0.30\n",
      "Epoch:  52/100 | train loss: 0.9712 | test accuracy: 0.30\n",
      "Epoch:  53/100 | train loss: 0.9983 | test accuracy: 0.30\n",
      "Epoch:  54/100 | train loss: 0.9776 | test accuracy: 0.30\n",
      "Epoch:  55/100 | train loss: 0.8795 | test accuracy: 0.30\n",
      "Epoch:  56/100 | train loss: 1.0342 | test accuracy: 0.30\n",
      "Epoch:  57/100 | train loss: 0.9811 | test accuracy: 0.30\n",
      "Epoch:  58/100 | train loss: 1.0587 | test accuracy: 0.30\n",
      "Epoch:  59/100 | train loss: 1.0063 | test accuracy: 0.30\n",
      "Epoch:  60/100 | train loss: 0.9782 | test accuracy: 0.30\n",
      "Epoch:  61/100 | train loss: 1.0056 | test accuracy: 0.30\n",
      "Epoch:  62/100 | train loss: 0.9849 | test accuracy: 0.30\n",
      "Epoch:  63/100 | train loss: 0.9900 | test accuracy: 0.30\n",
      "Epoch:  64/100 | train loss: 0.9511 | test accuracy: 0.30\n",
      "Epoch:  65/100 | train loss: 1.0255 | test accuracy: 0.30\n",
      "Epoch:  66/100 | train loss: 1.0534 | test accuracy: 0.30\n",
      "Epoch:  67/100 | train loss: 1.0877 | test accuracy: 0.30\n",
      "Epoch:  68/100 | train loss: 0.9566 | test accuracy: 0.30\n",
      "Epoch:  69/100 | train loss: 1.0337 | test accuracy: 0.30\n",
      "Epoch:  70/100 | train loss: 1.0465 | test accuracy: 0.30\n",
      "Epoch:  71/100 | train loss: 0.9987 | test accuracy: 0.30\n",
      "Epoch:  72/100 | train loss: 1.0690 | test accuracy: 0.30\n",
      "Epoch:  73/100 | train loss: 0.9164 | test accuracy: 0.30\n",
      "Epoch:  74/100 | train loss: 0.9353 | test accuracy: 0.30\n",
      "Epoch:  75/100 | train loss: 1.0399 | test accuracy: 0.30\n",
      "Epoch:  76/100 | train loss: 0.9841 | test accuracy: 0.30\n",
      "Epoch:  77/100 | train loss: 0.9910 | test accuracy: 0.30\n",
      "Epoch:  78/100 | train loss: 0.9851 | test accuracy: 0.30\n",
      "Epoch:  79/100 | train loss: 0.9154 | test accuracy: 0.30\n",
      "Epoch:  80/100 | train loss: 1.0546 | test accuracy: 0.30\n",
      "Epoch:  81/100 | train loss: 1.0186 | test accuracy: 0.30\n",
      "Epoch:  82/100 | train loss: 0.9521 | test accuracy: 0.30\n",
      "Epoch:  83/100 | train loss: 1.0470 | test accuracy: 0.30\n",
      "Epoch:  84/100 | train loss: 0.9846 | test accuracy: 0.30\n",
      "Epoch:  85/100 | train loss: 1.0476 | test accuracy: 0.30\n",
      "Epoch:  86/100 | train loss: 0.9925 | test accuracy: 0.30\n",
      "Epoch:  87/100 | train loss: 0.9672 | test accuracy: 0.30\n",
      "Epoch:  88/100 | train loss: 0.9078 | test accuracy: 0.30\n",
      "Epoch:  89/100 | train loss: 1.0113 | test accuracy: 0.30\n",
      "Epoch:  90/100 | train loss: 0.9370 | test accuracy: 0.30\n",
      "Epoch:  91/100 | train loss: 0.9985 | test accuracy: 0.30\n",
      "Epoch:  92/100 | train loss: 0.9378 | test accuracy: 0.30\n",
      "Epoch:  93/100 | train loss: 1.0868 | test accuracy: 0.30\n",
      "Epoch:  94/100 | train loss: 0.9852 | test accuracy: 0.30\n",
      "Epoch:  95/100 | train loss: 0.9985 | test accuracy: 0.30\n",
      "Epoch:  96/100 | train loss: 0.9494 | test accuracy: 0.30\n",
      "Epoch:  97/100 | train loss: 0.8788 | test accuracy: 0.30\n",
      "Epoch:  98/100 | train loss: 0.9632 | test accuracy: 0.30\n",
      "Epoch:  99/100 | train loss: 1.0816 | test accuracy: 0.30\n"
     ]
    }
   ],
   "source": [
    "EPOCH = 100\n",
    "BATCH_SIZE = 50\n",
    "LR = 0.001\n",
    "TIME_STEP = 1024         # \n",
    "INPUT_SIZE = 1\n",
    "\n",
    "gomodel = Sent(len(word2index), 300)\n",
    "gomodel.init_weights(pretrained_vectors) # initialize embedding matrix using pretrained vectors\n",
    "\n",
    "loss_function = nn.CrossEntropyLoss()\n",
    "optimizer = optim.Adam(gomodel.parameters(), lr=LR)\n",
    "\n",
    "for epoch in range(EPOCH):\n",
    "    losses = []\n",
    "    for i,batch in enumerate(getBatch(BATCH_SIZE, train_go)):\n",
    "\n",
    "        inputs,targets = pad_to_batch(batch)\n",
    "        #print(targets.size())          \n",
    "        gomodel.zero_grad()\n",
    "        preds = gomodel(inputs,True)\n",
    "        #print(preds.size())\n",
    "        loss = loss_function(preds, targets)\n",
    "        losses.append(loss.data.mean())\n",
    "        loss.backward()\n",
    "        \n",
    "        #for param in model.parameters():\n",
    "        #    param.grad.data.clamp_(-3, 3)\n",
    "        \n",
    "        optimizer.step()\n",
    "        acc = 0\n",
    "        if i % 100 == 0:\n",
    "            for test in test_data:\n",
    "                oup = gomodel(test[0])\n",
    "                a = (torch.max(oup,1)[1].item())\n",
    "                b = (test[1][0][0].item())\n",
    "                if a == b:\n",
    "                    acc +=1\n",
    "            accuracy = acc/len(test_data)\n",
    "            print('Epoch: ', str(epoch)+'/'+str(EPOCH), '| train loss: %.4f' % loss.data.numpy(), '| test accuracy: %.2f' % accuracy)\n"
   ]
  },
  {
   "cell_type": "markdown",
   "metadata": {},
   "source": [
    "### Amazon"
   ]
  },
  {
   "cell_type": "code",
   "execution_count": 38,
   "metadata": {},
   "outputs": [
    {
     "name": "stdout",
     "output_type": "stream",
     "text": [
      "Epoch:  0/100 | train loss: 1.2180 | test accuracy: 0.36\n",
      "Epoch:  1/100 | train loss: 0.4912 | test accuracy: 0.38\n",
      "Epoch:  2/100 | train loss: 0.3595 | test accuracy: 0.36\n",
      "Epoch:  3/100 | train loss: 0.4629 | test accuracy: 0.36\n",
      "Epoch:  4/100 | train loss: 0.6290 | test accuracy: 0.38\n",
      "Epoch:  5/100 | train loss: 0.2712 | test accuracy: 0.36\n",
      "Epoch:  6/100 | train loss: 0.6776 | test accuracy: 0.36\n",
      "Epoch:  7/100 | train loss: 0.7036 | test accuracy: 0.34\n",
      "Epoch:  8/100 | train loss: 0.4719 | test accuracy: 0.34\n",
      "Epoch:  9/100 | train loss: 0.6784 | test accuracy: 0.34\n",
      "Epoch:  10/100 | train loss: 0.6144 | test accuracy: 0.34\n",
      "Epoch:  11/100 | train loss: 0.1571 | test accuracy: 0.34\n",
      "Epoch:  12/100 | train loss: 0.4463 | test accuracy: 0.34\n",
      "Epoch:  13/100 | train loss: 0.3807 | test accuracy: 0.34\n",
      "Epoch:  14/100 | train loss: 0.2708 | test accuracy: 0.34\n",
      "Epoch:  15/100 | train loss: 0.6650 | test accuracy: 0.34\n",
      "Epoch:  16/100 | train loss: 0.4922 | test accuracy: 0.34\n",
      "Epoch:  17/100 | train loss: 0.6622 | test accuracy: 0.34\n",
      "Epoch:  18/100 | train loss: 0.3376 | test accuracy: 0.34\n",
      "Epoch:  19/100 | train loss: 0.4452 | test accuracy: 0.34\n",
      "Epoch:  20/100 | train loss: 0.4891 | test accuracy: 0.34\n",
      "Epoch:  21/100 | train loss: 0.6411 | test accuracy: 0.34\n",
      "Epoch:  22/100 | train loss: 0.4453 | test accuracy: 0.34\n",
      "Epoch:  23/100 | train loss: 0.3370 | test accuracy: 0.34\n",
      "Epoch:  24/100 | train loss: 0.4936 | test accuracy: 0.34\n",
      "Epoch:  25/100 | train loss: 0.5735 | test accuracy: 0.34\n",
      "Epoch:  26/100 | train loss: 0.3582 | test accuracy: 0.34\n",
      "Epoch:  27/100 | train loss: 0.4490 | test accuracy: 0.34\n",
      "Epoch:  28/100 | train loss: 0.4663 | test accuracy: 0.34\n",
      "Epoch:  29/100 | train loss: 0.5090 | test accuracy: 0.34\n",
      "Epoch:  30/100 | train loss: 0.3173 | test accuracy: 0.34\n",
      "Epoch:  31/100 | train loss: 0.4691 | test accuracy: 0.34\n",
      "Epoch:  32/100 | train loss: 0.5974 | test accuracy: 0.34\n",
      "Epoch:  33/100 | train loss: 0.4018 | test accuracy: 0.34\n",
      "Epoch:  34/100 | train loss: 0.4693 | test accuracy: 0.34\n",
      "Epoch:  35/100 | train loss: 0.4692 | test accuracy: 0.34\n",
      "Epoch:  36/100 | train loss: 0.5965 | test accuracy: 0.34\n",
      "Epoch:  37/100 | train loss: 0.3611 | test accuracy: 0.34\n",
      "Epoch:  38/100 | train loss: 0.5536 | test accuracy: 0.34\n",
      "Epoch:  39/100 | train loss: 0.5329 | test accuracy: 0.34\n",
      "Epoch:  40/100 | train loss: 0.5086 | test accuracy: 0.34\n",
      "Epoch:  41/100 | train loss: 0.3184 | test accuracy: 0.34\n",
      "Epoch:  42/100 | train loss: 0.4641 | test accuracy: 0.34\n",
      "Epoch:  43/100 | train loss: 0.4891 | test accuracy: 0.34\n",
      "Epoch:  44/100 | train loss: 0.3809 | test accuracy: 0.34\n",
      "Epoch:  45/100 | train loss: 0.4497 | test accuracy: 0.34\n",
      "Epoch:  46/100 | train loss: 0.5097 | test accuracy: 0.34\n",
      "Epoch:  47/100 | train loss: 0.5491 | test accuracy: 0.34\n",
      "Epoch:  48/100 | train loss: 0.4064 | test accuracy: 0.34\n",
      "Epoch:  49/100 | train loss: 0.6402 | test accuracy: 0.34\n",
      "Epoch:  50/100 | train loss: 0.3374 | test accuracy: 0.34\n",
      "Epoch:  51/100 | train loss: 0.5980 | test accuracy: 0.34\n",
      "Epoch:  52/100 | train loss: 0.7070 | test accuracy: 0.34\n",
      "Epoch:  53/100 | train loss: 0.5529 | test accuracy: 0.34\n",
      "Epoch:  54/100 | train loss: 0.4489 | test accuracy: 0.34\n",
      "Epoch:  55/100 | train loss: 0.3599 | test accuracy: 0.34\n",
      "Epoch:  56/100 | train loss: 0.5773 | test accuracy: 0.34\n",
      "Epoch:  57/100 | train loss: 0.6182 | test accuracy: 0.34\n",
      "Epoch:  58/100 | train loss: 0.4890 | test accuracy: 0.34\n",
      "Epoch:  59/100 | train loss: 0.5327 | test accuracy: 0.34\n",
      "Epoch:  60/100 | train loss: 0.4644 | test accuracy: 0.34\n",
      "Epoch:  61/100 | train loss: 0.3810 | test accuracy: 0.34\n",
      "Epoch:  62/100 | train loss: 0.4702 | test accuracy: 0.34\n",
      "Epoch:  63/100 | train loss: 0.6605 | test accuracy: 0.34\n",
      "Epoch:  64/100 | train loss: 0.6186 | test accuracy: 0.34\n",
      "Epoch:  65/100 | train loss: 0.4687 | test accuracy: 0.34\n",
      "Epoch:  66/100 | train loss: 0.4253 | test accuracy: 0.34\n",
      "Epoch:  67/100 | train loss: 0.4654 | test accuracy: 0.34\n",
      "Epoch:  68/100 | train loss: 0.4251 | test accuracy: 0.34\n",
      "Epoch:  69/100 | train loss: 0.4696 | test accuracy: 0.34\n",
      "Epoch:  70/100 | train loss: 0.3176 | test accuracy: 0.34\n",
      "Epoch:  71/100 | train loss: 0.4690 | test accuracy: 0.34\n",
      "Epoch:  72/100 | train loss: 0.3813 | test accuracy: 0.34\n",
      "Epoch:  73/100 | train loss: 0.4000 | test accuracy: 0.34\n",
      "Epoch:  74/100 | train loss: 0.3812 | test accuracy: 0.34\n",
      "Epoch:  75/100 | train loss: 0.3816 | test accuracy: 0.34\n",
      "Epoch:  76/100 | train loss: 0.4453 | test accuracy: 0.34\n",
      "Epoch:  77/100 | train loss: 0.5522 | test accuracy: 0.34\n",
      "Epoch:  78/100 | train loss: 0.4656 | test accuracy: 0.34\n",
      "Epoch:  79/100 | train loss: 0.3571 | test accuracy: 0.34\n",
      "Epoch:  80/100 | train loss: 0.4504 | test accuracy: 0.34\n",
      "Epoch:  81/100 | train loss: 0.5784 | test accuracy: 0.34\n",
      "Epoch:  82/100 | train loss: 0.3365 | test accuracy: 0.34\n",
      "Epoch:  83/100 | train loss: 0.5135 | test accuracy: 0.34\n",
      "Epoch:  84/100 | train loss: 0.4248 | test accuracy: 0.34\n",
      "Epoch:  85/100 | train loss: 0.5962 | test accuracy: 0.34\n",
      "Epoch:  86/100 | train loss: 0.4491 | test accuracy: 0.34\n",
      "Epoch:  87/100 | train loss: 0.2962 | test accuracy: 0.34\n",
      "Epoch:  88/100 | train loss: 0.5529 | test accuracy: 0.34\n",
      "Epoch:  89/100 | train loss: 0.5531 | test accuracy: 0.34\n",
      "Epoch:  90/100 | train loss: 0.4891 | test accuracy: 0.34\n",
      "Epoch:  91/100 | train loss: 0.5980 | test accuracy: 0.34\n",
      "Epoch:  92/100 | train loss: 0.6417 | test accuracy: 0.34\n",
      "Epoch:  93/100 | train loss: 0.4056 | test accuracy: 0.34\n",
      "Epoch:  94/100 | train loss: 0.5326 | test accuracy: 0.34\n",
      "Epoch:  95/100 | train loss: 0.5093 | test accuracy: 0.34\n",
      "Epoch:  96/100 | train loss: 0.4251 | test accuracy: 0.34\n",
      "Epoch:  97/100 | train loss: 0.5538 | test accuracy: 0.34\n",
      "Epoch:  98/100 | train loss: 0.4009 | test accuracy: 0.34\n",
      "Epoch:  99/100 | train loss: 0.4494 | test accuracy: 0.34\n"
     ]
    }
   ],
   "source": [
    "EPOCH = 100\n",
    "BATCH_SIZE = 50\n",
    "LR = 0.001\n",
    "TIME_STEP = 1024         # \n",
    "INPUT_SIZE = 1\n",
    "\n",
    "ammodel = Sent(len(word2index), 300)\n",
    "ammodel.init_weights(pretrained_vectors) # initialize embedding matrix using pretrained vectors\n",
    "\n",
    "loss_function = nn.CrossEntropyLoss()\n",
    "optimizer = optim.Adam(ammodel.parameters(), lr=LR)\n",
    "\n",
    "for epoch in range(EPOCH):\n",
    "    losses = []\n",
    "    for i,batch in enumerate(getBatch(BATCH_SIZE, train_am)):\n",
    "\n",
    "        inputs,targets = pad_to_batch(batch)\n",
    "        #print(targets.size())          \n",
    "        ammodel.zero_grad()\n",
    "        preds = ammodel(inputs,True)\n",
    "        #print(preds.size())\n",
    "        loss = loss_function(preds, targets)\n",
    "        losses.append(loss.data.mean())\n",
    "        loss.backward()\n",
    "        \n",
    "        #for param in model.parameters():\n",
    "        #    param.grad.data.clamp_(-3, 3)\n",
    "        \n",
    "        optimizer.step()\n",
    "        acc = 0\n",
    "        if i % 100 == 0:\n",
    "            for test in test_data:\n",
    "                oup = ammodel(test[0])\n",
    "                a = (torch.max(oup,1)[1].item())\n",
    "                b = (test[1][0][0].item())\n",
    "                if a == b:\n",
    "                    acc +=1\n",
    "            accuracy = acc/len(test_data)\n",
    "            print('Epoch: ', str(epoch)+'/'+str(EPOCH), '| train loss: %.4f' % loss.data.numpy(), '| test accuracy: %.2f' % accuracy)\n"
   ]
  },
  {
   "cell_type": "markdown",
   "metadata": {},
   "source": [
    "## Microsoft"
   ]
  },
  {
   "cell_type": "code",
   "execution_count": 39,
   "metadata": {},
   "outputs": [
    {
     "name": "stdout",
     "output_type": "stream",
     "text": [
      "Epoch:  0/100 | train loss: 1.1283 | test accuracy: 0.26\n",
      "Epoch:  1/100 | train loss: 0.9240 | test accuracy: 0.26\n",
      "Epoch:  2/100 | train loss: 1.0776 | test accuracy: 0.26\n",
      "Epoch:  3/100 | train loss: 1.0205 | test accuracy: 0.26\n",
      "Epoch:  4/100 | train loss: 0.9792 | test accuracy: 0.26\n",
      "Epoch:  5/100 | train loss: 1.0509 | test accuracy: 0.26\n",
      "Epoch:  6/100 | train loss: 1.1157 | test accuracy: 0.26\n",
      "Epoch:  7/100 | train loss: 1.0091 | test accuracy: 0.26\n",
      "Epoch:  8/100 | train loss: 0.9382 | test accuracy: 0.26\n",
      "Epoch:  9/100 | train loss: 0.9759 | test accuracy: 0.26\n",
      "Epoch:  10/100 | train loss: 1.0449 | test accuracy: 0.26\n",
      "Epoch:  11/100 | train loss: 1.0067 | test accuracy: 0.26\n",
      "Epoch:  12/100 | train loss: 0.9115 | test accuracy: 0.26\n",
      "Epoch:  13/100 | train loss: 0.9034 | test accuracy: 0.26\n",
      "Epoch:  14/100 | train loss: 1.0023 | test accuracy: 0.26\n",
      "Epoch:  15/100 | train loss: 0.9657 | test accuracy: 0.26\n",
      "Epoch:  16/100 | train loss: 1.0112 | test accuracy: 0.26\n",
      "Epoch:  17/100 | train loss: 0.8790 | test accuracy: 0.26\n",
      "Epoch:  18/100 | train loss: 1.0557 | test accuracy: 0.26\n",
      "Epoch:  19/100 | train loss: 0.9121 | test accuracy: 0.26\n",
      "Epoch:  20/100 | train loss: 1.0691 | test accuracy: 0.26\n",
      "Epoch:  21/100 | train loss: 1.0049 | test accuracy: 0.26\n",
      "Epoch:  22/100 | train loss: 0.9702 | test accuracy: 0.26\n",
      "Epoch:  23/100 | train loss: 1.0366 | test accuracy: 0.26\n",
      "Epoch:  24/100 | train loss: 1.0477 | test accuracy: 0.26\n",
      "Epoch:  25/100 | train loss: 0.9633 | test accuracy: 0.26\n",
      "Epoch:  26/100 | train loss: 1.0963 | test accuracy: 0.26\n",
      "Epoch:  27/100 | train loss: 0.9876 | test accuracy: 0.26\n",
      "Epoch:  28/100 | train loss: 1.0080 | test accuracy: 0.26\n",
      "Epoch:  29/100 | train loss: 0.9248 | test accuracy: 0.26\n",
      "Epoch:  30/100 | train loss: 1.0614 | test accuracy: 0.26\n",
      "Epoch:  31/100 | train loss: 1.0305 | test accuracy: 0.26\n",
      "Epoch:  32/100 | train loss: 0.9503 | test accuracy: 0.26\n",
      "Epoch:  33/100 | train loss: 0.9378 | test accuracy: 0.26\n",
      "Epoch:  34/100 | train loss: 1.0295 | test accuracy: 0.26\n",
      "Epoch:  35/100 | train loss: 0.9606 | test accuracy: 0.26\n",
      "Epoch:  36/100 | train loss: 1.0630 | test accuracy: 0.26\n",
      "Epoch:  37/100 | train loss: 0.9778 | test accuracy: 0.26\n",
      "Epoch:  38/100 | train loss: 0.9945 | test accuracy: 0.26\n",
      "Epoch:  39/100 | train loss: 1.0057 | test accuracy: 0.26\n",
      "Epoch:  40/100 | train loss: 0.9397 | test accuracy: 0.26\n",
      "Epoch:  41/100 | train loss: 1.0085 | test accuracy: 0.26\n",
      "Epoch:  42/100 | train loss: 1.0610 | test accuracy: 0.26\n",
      "Epoch:  43/100 | train loss: 1.0667 | test accuracy: 0.26\n",
      "Epoch:  44/100 | train loss: 1.0602 | test accuracy: 0.26\n",
      "Epoch:  45/100 | train loss: 1.0115 | test accuracy: 0.26\n",
      "Epoch:  46/100 | train loss: 0.9922 | test accuracy: 0.26\n",
      "Epoch:  47/100 | train loss: 1.0032 | test accuracy: 0.26\n",
      "Epoch:  48/100 | train loss: 0.8449 | test accuracy: 0.26\n",
      "Epoch:  49/100 | train loss: 0.9585 | test accuracy: 0.26\n",
      "Epoch:  50/100 | train loss: 0.9765 | test accuracy: 0.26\n",
      "Epoch:  51/100 | train loss: 1.0544 | test accuracy: 0.26\n",
      "Epoch:  52/100 | train loss: 0.9508 | test accuracy: 0.26\n",
      "Epoch:  53/100 | train loss: 1.0377 | test accuracy: 0.26\n",
      "Epoch:  54/100 | train loss: 0.9322 | test accuracy: 0.26\n",
      "Epoch:  55/100 | train loss: 0.9713 | test accuracy: 0.26\n",
      "Epoch:  56/100 | train loss: 1.0324 | test accuracy: 0.26\n",
      "Epoch:  57/100 | train loss: 0.9175 | test accuracy: 0.26\n",
      "Epoch:  58/100 | train loss: 0.9736 | test accuracy: 0.26\n",
      "Epoch:  59/100 | train loss: 0.9594 | test accuracy: 0.26\n",
      "Epoch:  60/100 | train loss: 0.9440 | test accuracy: 0.26\n",
      "Epoch:  61/100 | train loss: 0.9394 | test accuracy: 0.26\n",
      "Epoch:  62/100 | train loss: 0.9507 | test accuracy: 0.26\n",
      "Epoch:  63/100 | train loss: 0.9545 | test accuracy: 0.26\n",
      "Epoch:  64/100 | train loss: 1.0261 | test accuracy: 0.26\n",
      "Epoch:  65/100 | train loss: 1.0355 | test accuracy: 0.26\n",
      "Epoch:  66/100 | train loss: 0.9560 | test accuracy: 0.26\n",
      "Epoch:  67/100 | train loss: 0.9366 | test accuracy: 0.26\n",
      "Epoch:  68/100 | train loss: 1.0265 | test accuracy: 0.26\n",
      "Epoch:  69/100 | train loss: 1.0941 | test accuracy: 0.26\n",
      "Epoch:  70/100 | train loss: 0.9649 | test accuracy: 0.26\n",
      "Epoch:  71/100 | train loss: 1.1731 | test accuracy: 0.26\n",
      "Epoch:  72/100 | train loss: 0.8915 | test accuracy: 0.26\n",
      "Epoch:  73/100 | train loss: 0.9698 | test accuracy: 0.26\n",
      "Epoch:  74/100 | train loss: 1.0790 | test accuracy: 0.26\n",
      "Epoch:  75/100 | train loss: 1.0437 | test accuracy: 0.26\n",
      "Epoch:  76/100 | train loss: 0.9426 | test accuracy: 0.26\n",
      "Epoch:  77/100 | train loss: 0.9874 | test accuracy: 0.26\n",
      "Epoch:  78/100 | train loss: 0.9735 | test accuracy: 0.26\n",
      "Epoch:  79/100 | train loss: 0.9353 | test accuracy: 0.26\n",
      "Epoch:  80/100 | train loss: 1.0843 | test accuracy: 0.26\n",
      "Epoch:  81/100 | train loss: 1.0553 | test accuracy: 0.26\n",
      "Epoch:  82/100 | train loss: 1.0219 | test accuracy: 0.26\n",
      "Epoch:  83/100 | train loss: 1.0540 | test accuracy: 0.26\n",
      "Epoch:  84/100 | train loss: 0.9496 | test accuracy: 0.26\n",
      "Epoch:  85/100 | train loss: 1.0119 | test accuracy: 0.26\n",
      "Epoch:  86/100 | train loss: 1.0472 | test accuracy: 0.26\n",
      "Epoch:  87/100 | train loss: 1.1157 | test accuracy: 0.26\n",
      "Epoch:  88/100 | train loss: 0.9939 | test accuracy: 0.26\n",
      "Epoch:  89/100 | train loss: 1.0222 | test accuracy: 0.26\n",
      "Epoch:  90/100 | train loss: 0.9693 | test accuracy: 0.26\n",
      "Epoch:  91/100 | train loss: 0.8886 | test accuracy: 0.26\n",
      "Epoch:  92/100 | train loss: 0.9649 | test accuracy: 0.26\n",
      "Epoch:  93/100 | train loss: 0.9654 | test accuracy: 0.26\n",
      "Epoch:  94/100 | train loss: 1.0119 | test accuracy: 0.26\n",
      "Epoch:  95/100 | train loss: 1.1238 | test accuracy: 0.26\n",
      "Epoch:  96/100 | train loss: 1.0345 | test accuracy: 0.26\n",
      "Epoch:  97/100 | train loss: 1.0581 | test accuracy: 0.26\n",
      "Epoch:  98/100 | train loss: 0.9275 | test accuracy: 0.26\n",
      "Epoch:  99/100 | train loss: 0.9981 | test accuracy: 0.26\n"
     ]
    }
   ],
   "source": [
    "EPOCH = 100\n",
    "BATCH_SIZE = 50\n",
    "LR = 0.001\n",
    "TIME_STEP = 1024         # \n",
    "INPUT_SIZE = 1\n",
    "\n",
    "msmodel = Sent(len(word2index), 300)\n",
    "msmodel.init_weights(pretrained_vectors) # initialize embedding matrix using pretrained vectors\n",
    "\n",
    "loss_function = nn.CrossEntropyLoss()\n",
    "optimizer = optim.Adam(msmodel.parameters(), lr=LR)\n",
    "\n",
    "for epoch in range(EPOCH):\n",
    "    losses = []\n",
    "    for i,batch in enumerate(getBatch(BATCH_SIZE, train_ms)):\n",
    "\n",
    "        inputs,targets = pad_to_batch(batch)\n",
    "        #print(targets.size())          \n",
    "        msmodel.zero_grad()\n",
    "        preds = msmodel(inputs,True)\n",
    "        #print(preds.size())\n",
    "        loss = loss_function(preds, targets)\n",
    "        losses.append(loss.data.mean())\n",
    "        loss.backward()\n",
    "        \n",
    "        #for param in model.parameters():\n",
    "        #    param.grad.data.clamp_(-3, 3)\n",
    "        \n",
    "        optimizer.step()\n",
    "        acc = 0\n",
    "        if i % 100 == 0:\n",
    "            for test in test_data:\n",
    "                oup = msmodel(test[0])\n",
    "                a = (torch.max(oup,1)[1].item())\n",
    "                b = (test[1][0][0].item())\n",
    "                if a == b:\n",
    "                    acc +=1\n",
    "            accuracy = acc/len(test_data)\n",
    "            print('Epoch: ', str(epoch)+'/'+str(EPOCH), '| train loss: %.4f' % loss.data.numpy(), '| test accuracy: %.2f' % accuracy)\n"
   ]
  },
  {
   "cell_type": "code",
   "execution_count": null,
   "metadata": {},
   "outputs": [],
   "source": []
  },
  {
   "cell_type": "code",
   "execution_count": 40,
   "metadata": {},
   "outputs": [],
   "source": [
    "from sklearn.metrics import classification_report\n",
    "from sklearn.metrics import confusion_matrix\n",
    "from sklearn.metrics import roc_curve \n",
    "from sklearn.metrics import roc_auc_score\n",
    "\n",
    "\n",
    "\n",
    "\n",
    "def getEvaluation(model_name,testData):\n",
    "    y_pred = []\n",
    "    y_test = []\n",
    "    n = dictCompany[model_name]\n",
    "    for test in testData:\n",
    "        oup = model_name(test[0])\n",
    "        y_p = (torch.max(oup,1)[1].item())\n",
    "        y_pred.append(y_p)\n",
    "        y_t = (test[1][0].item())\n",
    "        y_test.append(y_t)\n",
    "    #fpr, tpr,threshold = roc_curve(y_test)\n",
    "    print(classification_report(y_test,y_pred))\n",
    "    print(pd.DataFrame(data = confusion_matrix(y_test,y_pred),columns = [ predict要改 ],\n",
    "          index = ['要改]))\n",
    "\n",
    "    \n",
    "    "
   ]
  },
  {
   "cell_type": "code",
   "execution_count": 41,
   "metadata": {},
   "outputs": [
    {
     "name": "stdout",
     "output_type": "stream",
     "text": [
      "50\n",
      "              precision    recall  f1-score   support\n",
      "\n",
      "           0       0.33      0.06      0.10        17\n",
      "           1       0.49      0.77      0.60        22\n",
      "           2       0.25      0.27      0.26        11\n",
      "\n",
      "   micro avg       0.42      0.42      0.42        50\n",
      "   macro avg       0.36      0.37      0.32        50\n",
      "weighted avg       0.38      0.42      0.35        50\n",
      "\n",
      "      Pre_Flat  Pre_Up  Pre_Down\n",
      "Flat         1      11         5\n",
      "Up           1      17         4\n",
      "Down         1       7         3\n"
     ]
    }
   ],
   "source": [
    "#apple\n",
    "print(len(test_data))\n",
    "getEvaluation(apmodel,test_data)"
   ]
  },
  {
   "cell_type": "code",
   "execution_count": 42,
   "metadata": {},
   "outputs": [
    {
     "name": "stdout",
     "output_type": "stream",
     "text": [
      "              precision    recall  f1-score   support\n",
      "\n",
      "           0       0.20      0.04      0.07        25\n",
      "           1       0.29      0.62      0.39        16\n",
      "           2       0.20      0.22      0.21         9\n",
      "\n",
      "   micro avg       0.26      0.26      0.26        50\n",
      "   macro avg       0.23      0.30      0.22        50\n",
      "weighted avg       0.23      0.26      0.20        50\n",
      "\n",
      "      Pre_Flat  Pre_Up  Pre_Down\n",
      "Flat         1      19         5\n",
      "Up           3      10         3\n",
      "Down         1       6         2\n"
     ]
    }
   ],
   "source": [
    "#IBM\n",
    "getEvaluation(bmmodel,test_data)"
   ]
  },
  {
   "cell_type": "code",
   "execution_count": 43,
   "metadata": {},
   "outputs": [
    {
     "name": "stdout",
     "output_type": "stream",
     "text": [
      "              precision    recall  f1-score   support\n",
      "\n",
      "           0       0.41      0.41      0.41        22\n",
      "           1       0.57      0.24      0.33        17\n",
      "           2       0.14      0.27      0.19        11\n",
      "\n",
      "   micro avg       0.32      0.32      0.32        50\n",
      "   macro avg       0.37      0.31      0.31        50\n",
      "weighted avg       0.41      0.32      0.33        50\n",
      "\n",
      "      Pre_Flat  Pre_Up  Pre_Down\n",
      "Flat         9       2        11\n",
      "Up           6       4         7\n",
      "Down         7       1         3\n"
     ]
    }
   ],
   "source": [
    "#google\n",
    "getEvaluation(gomodel,test_data)"
   ]
  },
  {
   "cell_type": "code",
   "execution_count": 44,
   "metadata": {},
   "outputs": [
    {
     "name": "stdout",
     "output_type": "stream",
     "text": [
      "              precision    recall  f1-score   support\n",
      "\n",
      "           0       0.00      0.00      0.00        45\n",
      "           1       0.14      0.75      0.24         4\n",
      "           2       0.03      1.00      0.07         1\n",
      "\n",
      "   micro avg       0.08      0.08      0.08        50\n",
      "   macro avg       0.06      0.58      0.10        50\n",
      "weighted avg       0.01      0.08      0.02        50\n",
      "\n",
      "      Pre_Flat  Pre_Up  Pre_Down\n",
      "Flat         0      18        27\n",
      "Up           0       3         1\n",
      "Down         0       0         1\n"
     ]
    },
    {
     "name": "stderr",
     "output_type": "stream",
     "text": [
      "/home/marco/anaconda3/lib/python3.7/site-packages/sklearn/metrics/classification.py:1143: UndefinedMetricWarning: Precision and F-score are ill-defined and being set to 0.0 in labels with no predicted samples.\n",
      "  'precision', 'predicted', average, warn_for)\n"
     ]
    }
   ],
   "source": [
    "#amazon\n",
    "getEvaluation(ammodel,test_data)"
   ]
  },
  {
   "cell_type": "code",
   "execution_count": 45,
   "metadata": {},
   "outputs": [
    {
     "name": "stdout",
     "output_type": "stream",
     "text": [
      "              precision    recall  f1-score   support\n",
      "\n",
      "           0       0.00      0.00      0.00        22\n",
      "           1       0.00      0.00      0.00        16\n",
      "           2       0.21      0.83      0.34        12\n",
      "\n",
      "   micro avg       0.20      0.20      0.20        50\n",
      "   macro avg       0.07      0.28      0.11        50\n",
      "weighted avg       0.05      0.20      0.08        50\n",
      "\n",
      "      Pre_Flat  Pre_Up  Pre_Down\n",
      "Flat         0       1        21\n",
      "Up           0       0        16\n",
      "Down         0       2        10\n"
     ]
    }
   ],
   "source": [
    "#microsoft\n",
    "getEvaluation(msmodel,test_data)"
   ]
  },
  {
   "cell_type": "code",
   "execution_count": 46,
   "metadata": {},
   "outputs": [
    {
     "data": {
      "text/plain": [
       "4983"
      ]
     },
     "execution_count": 46,
     "metadata": {},
     "output_type": "execute_result"
    }
   ],
   "source": [
    "df_test = pd.read_csv('/home/marco/Dropbox/Textnews/TextProject/code/predictResult.csv')\n",
    "final_test = list(df_test['NewsContent'])\n",
    "\n",
    "finatestnewsToken = [regexp_tokenize(sent,pattern = '\\w+|\\$[\\d\\.]+|\\S+') for sent in final_test] #####?\n",
    "finatestnew_token = [x for x in finatestnewsToken if len(x)<=1000]\n",
    "finatestflatToken = flatten(finatestnew_token)\n",
    "finatestallWords = [w.lower() for w in finatestflatToken]\n",
    "finatestvocabulary = list(set(finatestallWords))  # news vocabulary \n",
    "len(finatestvocabulary)"
   ]
  },
  {
   "cell_type": "code",
   "execution_count": 47,
   "metadata": {},
   "outputs": [
    {
     "data": {
      "text/plain": [
       "100"
      ]
     },
     "execution_count": 47,
     "metadata": {},
     "output_type": "execute_result"
    }
   ],
   "source": [
    "testy_sent = df_test.iloc[:,8:].values\n",
    "len(testy_sent)"
   ]
  },
  {
   "cell_type": "code",
   "execution_count": 48,
   "metadata": {},
   "outputs": [
    {
     "data": {
      "text/plain": [
       "85"
      ]
     },
     "execution_count": 48,
     "metadata": {},
     "output_type": "execute_result"
    }
   ],
   "source": [
    "len(finatestnew_token)\n"
   ]
  },
  {
   "cell_type": "code",
   "execution_count": 49,
   "metadata": {},
   "outputs": [],
   "source": [
    "#word2index.items()"
   ]
  },
  {
   "cell_type": "code",
   "execution_count": 50,
   "metadata": {},
   "outputs": [],
   "source": [
    "for vo in finatestvocabulary:\n",
    "    if word2index.get(vo) is None:\n",
    "        word2index[vo] = len(word2index)\n",
    "        \n",
    "index2word = {v:k for k, v in word2index.items()}"
   ]
  },
  {
   "cell_type": "code",
   "execution_count": 51,
   "metadata": {},
   "outputs": [],
   "source": [
    "X_t, y_t = [],[]\n",
    "\n",
    "for x,y in zip(finatestnewsToken,testy_sent):\n",
    "    if len(x) <=1000:\n",
    "        X_t.append(prepare_sequence(x, word2index).view(1, -1))\n",
    "        y_t.append(Variable(LongTensor(y)).view(1, -1))\n",
    "        \n",
    "    \n",
    "data_t = list(zip(X_t,y_t))\n",
    "random.shuffle(data_t)\n"
   ]
  },
  {
   "cell_type": "code",
   "execution_count": 52,
   "metadata": {},
   "outputs": [],
   "source": [
    "pretrained = []\n",
    "\n",
    "for key in word2index.keys():\n",
    "    try:\n",
    "        pretrained.append(wiki_en[word2index[key]])\n",
    "    except:\n",
    "        pretrained.append(np.random.randn(300))\n",
    "        \n",
    "pretrained_vectors = np.vstack(pretrained)"
   ]
  },
  {
   "cell_type": "code",
   "execution_count": 53,
   "metadata": {},
   "outputs": [],
   "source": [
    "def getPrediction(model_name,testData):\n",
    "    y_pred = []\n",
    "    y_test = []\n",
    "    n = dictCompany[model_name]\n",
    "    for test in testData:\n",
    "        oup = model_name(test[0])\n",
    "        y_p = (torch.max(oup,1)[1].item())\n",
    "        y_pred.append(y_p)\n",
    "        y_t = (test[1][0][n].item())\n",
    "        y_test.append(y_t)\n",
    "    return y_pred"
   ]
  },
  {
   "cell_type": "code",
   "execution_count": 54,
   "metadata": {},
   "outputs": [],
   "source": [
    "#apple\n",
    "apmodel.init_weights(pretrained_vectors)\n",
    "appleresualt = getPrediction(apmodel,data_t)"
   ]
  },
  {
   "cell_type": "code",
   "execution_count": 55,
   "metadata": {},
   "outputs": [],
   "source": [
    "#ibm\n",
    "bmmodel.init_weights(pretrained_vectors)\n",
    "ibmresualt = getPrediction(bmmodel,data_t)"
   ]
  },
  {
   "cell_type": "code",
   "execution_count": 56,
   "metadata": {},
   "outputs": [],
   "source": [
    "#google\n",
    "gomodel.init_weights(pretrained_vectors)\n",
    "googleresualt = getPrediction(gomodel,data_t)"
   ]
  },
  {
   "cell_type": "code",
   "execution_count": 57,
   "metadata": {},
   "outputs": [],
   "source": [
    "#Amazon\n",
    "ammodel.init_weights(pretrained_vectors)\n",
    "amazonresualt = getPrediction(ammodel,data_t)"
   ]
  },
  {
   "cell_type": "code",
   "execution_count": 58,
   "metadata": {},
   "outputs": [],
   "source": [
    "#amazon\n",
    "msmodel.init_weights(pretrained_vectors)\n",
    "msresualt = getPrediction(msmodel,data_t)"
   ]
  },
  {
   "cell_type": "code",
   "execution_count": 59,
   "metadata": {},
   "outputs": [],
   "source": [
    "companyList = [True if len(x)<1000 else False for x in finatestnewsToken ]"
   ]
  },
  {
   "cell_type": "code",
   "execution_count": 60,
   "metadata": {},
   "outputs": [],
   "source": [
    "answertabel = df_test.iloc[companyList,3:]\n",
    "answertable = answertabel.reset_index()\n",
    "answertable = answertable.drop('index',axis =1)\n",
    "answertable = answertable.drop('index.1',axis =1)\n",
    "answertable['APPL_senti'] = appleresualt\n",
    "answertable['IBM_senti'] = ibmresualt\n",
    "answertable['GOOGL_senti'] = googleresualt\n",
    "answertable['AMZN_senti'] = amazonresualt\n",
    "answertable['MSFT_senti'] = msresualt\n",
    "answertable = answertable.replace(2,-1)\n",
    "answertable.to_csv('toMfinal predict.csv')"
   ]
  },
  {
   "cell_type": "code",
   "execution_count": 61,
   "metadata": {},
   "outputs": [
    {
     "data": {
      "image/png": "[encoded data removed]",
      "text/plain": [
       "<Figure size 2400x1800 with 1 Axes>"
      ]
     },
     "metadata": {
      "needs_background": "light"
     },
     "output_type": "display_data"
    }
   ],
   "source": [
    "%notebook inline\n",
    "f1 = [0.4, .32, .30, .08, .36]\n",
    "import seaborn as sns\n",
    "sns.set_style()\n",
    "objects = ('Apple', 'IBM', 'Google', 'Amazon', 'Microsoft')\n",
    "y_pos = np.arange(len(objects))\n",
    "\n",
    "plt.figure(figsize=(8,6),dpi=300)\n",
    "plt.bar(y_pos, f1, align='center', alpha=0.5)\n",
    "plt.xticks(y_pos, objects)\n",
    "plt.ylabel('Micro F1 Score')\n",
    "plt.title('F1 SCORE of Model Performance')\n",
    " \n",
    "plt.show()"
   ]
  },
  {
   "cell_type": "code",
   "execution_count": null,
   "metadata": {},
   "outputs": [],
   "source": []
  },
  {
   "cell_type": "code",
   "execution_count": null,
   "metadata": {},
   "outputs": [],
   "source": []
  }
 ],
 "metadata": {
  "kernelspec": {
   "display_name": "Python 3",
   "language": "python",
   "name": "python3"
  },
  "language_info": {
   "codemirror_mode": {
    "name": "ipython",
    "version": 3
   },
   "file_extension": ".py",
   "mimetype": "text/x-python",
   "name": "python",
   "nbconvert_exporter": "python",
   "pygments_lexer": "ipython3",
   "version": "3.7.3"
  }
 },
 "nbformat": 4,
 "nbformat_minor": 2
}
